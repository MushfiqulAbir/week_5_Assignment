{
 "cells": [
  {
   "cell_type": "code",
   "execution_count": 5,
   "id": "eadd7cdf",
   "metadata": {},
   "outputs": [
    {
     "name": "stdout",
     "output_type": "stream",
     "text": [
      "Highest Wind Speed =  1048.36058\n"
     ]
    }
   ],
   "source": [
    "#Q-3-Windest airport in New York on Feb 13th, 2013\n",
    "\n",
    "import pandas as pd\n",
    "\n",
    "d = pd.read_csv('weather.csv')\n",
    "\n",
    "wind = d['wind_speed'].max() \n",
    "\n",
    "print(\"Highest Wind Speed = \",wind)"
   ]
  },
  {
   "cell_type": "code",
   "execution_count": null,
   "id": "9f62e6a3",
   "metadata": {},
   "outputs": [],
   "source": [
    "#If we look at the csv file, we can see that EWR had the windest weather"
   ]
  },
  {
   "cell_type": "code",
   "execution_count": null,
   "id": "bd1e6f0e",
   "metadata": {},
   "outputs": [],
   "source": []
  }
 ],
 "metadata": {
  "kernelspec": {
   "display_name": "Python 3 (ipykernel)",
   "language": "python",
   "name": "python3"
  },
  "language_info": {
   "codemirror_mode": {
    "name": "ipython",
    "version": 3
   },
   "file_extension": ".py",
   "mimetype": "text/x-python",
   "name": "python",
   "nbconvert_exporter": "python",
   "pygments_lexer": "ipython3",
   "version": "3.8.12"
  }
 },
 "nbformat": 4,
 "nbformat_minor": 5
}
