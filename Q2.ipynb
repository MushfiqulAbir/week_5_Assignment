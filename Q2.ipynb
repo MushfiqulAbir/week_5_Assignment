{
 "cells": [
  {
   "cell_type": "code",
   "execution_count": 2,
   "id": "df0a74d4",
   "metadata": {},
   "outputs": [
    {
     "name": "stdout",
     "output_type": "stream",
     "text": [
      "Easternmost airport latitude =  19.721375\n"
     ]
    }
   ],
   "source": [
    "#Q-2-code to get the lowest latitude which indicate the eastermost \n",
    "\n",
    "\n",
    "import pandas as pd\n",
    "\n",
    "data = pd.read_csv('airports.csv')\n",
    "\n",
    "easternmost = data['lat'].min()\n",
    "\n",
    "\n",
    "print(\"Easternmost airport latitude = \",easternmost)"
   ]
  },
  {
   "cell_type": "code",
   "execution_count": 3,
   "id": "45c996a6",
   "metadata": {},
   "outputs": [],
   "source": [
    "#which means Hilo Intl Airport easternmost"
   ]
  },
  {
   "cell_type": "code",
   "execution_count": null,
   "id": "1f38adf0",
   "metadata": {},
   "outputs": [],
   "source": []
  }
 ],
 "metadata": {
  "kernelspec": {
   "display_name": "Python 3 (ipykernel)",
   "language": "python",
   "name": "python3"
  },
  "language_info": {
   "codemirror_mode": {
    "name": "ipython",
    "version": 3
   },
   "file_extension": ".py",
   "mimetype": "text/x-python",
   "name": "python",
   "nbconvert_exporter": "python",
   "pygments_lexer": "ipython3",
   "version": "3.8.12"
  }
 },
 "nbformat": 4,
 "nbformat_minor": 5
}
